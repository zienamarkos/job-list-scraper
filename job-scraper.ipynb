{
 "cells": [
  {
   "cell_type": "code",
   "execution_count": 8,
   "id": "cf9166af-4ed9-4a54-af49-36548b0bb087",
   "metadata": {},
   "outputs": [],
   "source": [
    "from selenium import webdriver\n",
    "import pandas as pd\n",
    "import time\n",
    "from selenium.webdriver.common.by import By\n",
    "import csv\n",
    "from selenium.webdriver.support import expected_conditions as EC\n",
    "from selenium.webdriver.support.ui import WebDriverWait\n"
   ]
  },
  {
   "cell_type": "code",
   "execution_count": 9,
   "id": "a1b2a5f3-f1a1-4124-87a6-e7f4e4a116ec",
   "metadata": {},
   "outputs": [],
   "source": [
    "driver=webdriver.Chrome()\n",
    "driver.get(\"https://www.ethiojobs.net\")\n"
   ]
  },
  {
   "cell_type": "code",
   "execution_count": 10,
   "id": "c73f0b8f-8207-403d-b0d6-494dd486908c",
   "metadata": {},
   "outputs": [],
   "source": [
    "input_search=driver.find_element(By.ID, \"keywords\")\n",
    "search_button=driver.find_element(By.XPATH, \"//input[@type='submit']\")\n",
    "input_search.send_keys(\"IT\")\n",
    "search_button.click()\n"
   ]
  },
  {
   "cell_type": "code",
   "execution_count": 11,
   "id": "e49da48a-5968-450f-8eb3-1a7320438130",
   "metadata": {
    "scrolled": true
   },
   "outputs": [
    {
     "name": "stdout",
     "output_type": "stream",
     "text": [
      "scraping page 1\n",
      "scraping page 2\n",
      "scraping page 3\n",
      "scraping page 4\n",
      "scraping page 5\n",
      "scraping page 6\n",
      "scraping page 7\n"
     ]
    }
   ],
   "source": [
    "Job_Title_List=[]\n",
    "Company_Name_List=[]\n",
    "Place_Of_Work_List=[]\n",
    "Experiance_Level_List=[]\n",
    "Date_Posted_List=[]\n",
    "\n",
    "for i in range(7):\n",
    "    print(\"scraping page\", i+1)\n",
    "    \n",
    "    Job_Title=driver.find_elements(By.XPATH, \"//a[@title='View Job']\")\n",
    "    for job in Job_Title:\n",
    "        Job_Title_List.append([job.text])\n",
    "    Company_Name=driver.find_elements(By.XPATH, \"//div[@class='pull-left']/child::span[@class='captions-field'][position()=1]\")\n",
    "    for name in Company_Name:\n",
    "        Company_Name_List.append([name.text])\n",
    "    Place_Of_Work=driver.find_elements(By.XPATH, \"//span[@class='work-palce captions-field']\")\n",
    "    for place in Place_Of_Work:\n",
    "        Place_Of_Work_List.append([place.text])\n",
    "    Experiance_Level=driver.find_elements(By.XPATH, \"//div[@class='pull-left']/child::span[@class='captions-field'][position()=2]\")\n",
    "    for experiance in Experiance_Level:\n",
    "        Experiance_Level_List.append([experiance.text])\n",
    "    Date_Posted=driver.find_elements(By.XPATH, \"//div[@class='pull-right']/child::span[@class='captions-field']\")\n",
    "    for date in Date_Posted:\n",
    "        Date_Posted_List.append([date.text])\n",
    "    \n",
    "    wait = WebDriverWait(driver, 10)\n",
    "    next_button = wait.until(EC.element_to_be_clickable((By.XPATH, \"//i[@class='fa fa-chevron-right']\")))\n",
    "    next_button=driver.find_element(By.XPATH, \"//i[@class='fa fa-chevron-right']\")\n",
    "    next_button.click()\n",
    "    time.sleep(2)\n",
    "driver.quit()"
   ]
  },
  {
   "cell_type": "code",
   "execution_count": 30,
   "id": "bf19df60-c139-4515-8f14-86db5bd6e7eb",
   "metadata": {},
   "outputs": [
    {
     "name": "stdout",
     "output_type": "stream",
     "text": [
      "Data saved to job_postings.csv\n"
     ]
    }
   ],
   "source": [
    "# Save data to a CSV file\n",
    "csv_filename = \"job_postings.csv\"\n",
    "\n",
    "# Combine the lists into a list of lists\n",
    "data_to_write = zip(Job_Title_List, Company_Name_List, Place_Of_Work_List, Experiance_Level_List, Date_Posted_List)\n",
    "\n",
    "with open(csv_filename, mode='w', newline='', encoding='utf-8') as csv_file:\n",
    "    csv_writer = csv.writer(csv_file)\n",
    "    \n",
    "    # Write header\n",
    "    csv_writer.writerow(['Job_Title', 'Company_Name', 'Place_Of_Work', 'Experiance_Level', 'Date_Posted'])\n",
    "\n",
    "           \n",
    "    # Write data\n",
    "    csv_writer.writerows(data_to_write)\n",
    "\n",
    "print(f\"Data saved to {csv_filename}\")"
   ]
  },
  {
   "cell_type": "code",
   "execution_count": null,
   "id": "7611ffe1-b15c-4ad9-b6c2-9499fd72601d",
   "metadata": {},
   "outputs": [],
   "source": []
  },
  {
   "cell_type": "code",
   "execution_count": null,
   "id": "c0b53f64-db26-4c85-9278-29444ca55c71",
   "metadata": {},
   "outputs": [],
   "source": []
  },
  {
   "cell_type": "code",
   "execution_count": null,
   "id": "cdf24629-0901-4585-b8de-ab611a63b6f0",
   "metadata": {},
   "outputs": [],
   "source": []
  }
 ],
 "metadata": {
  "kernelspec": {
   "display_name": "Python 3 (ipykernel)",
   "language": "python",
   "name": "python3"
  },
  "language_info": {
   "codemirror_mode": {
    "name": "ipython",
    "version": 3
   },
   "file_extension": ".py",
   "mimetype": "text/x-python",
   "name": "python",
   "nbconvert_exporter": "python",
   "pygments_lexer": "ipython3",
   "version": "3.12.2"
  }
 },
 "nbformat": 4,
 "nbformat_minor": 5
}
